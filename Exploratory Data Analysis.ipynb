{
 "cells": [
  {
   "cell_type": "markdown",
   "metadata": {
    "id": "rmN-gD8MoliI"
   },
   "source": [
    "# Summary\n",
    "\n",
    "In this notebook, we will perform Exploratory Data Analysis (EDA) in Python. Steps:\n",
    "1. Preliminary\n",
    "2. Data cleaning / Feature Engineering / Data Manipulation\n",
    "3. Reading and Extracting Data"
   ]
  },
  {
   "cell_type": "markdown",
   "metadata": {
    "id": "BwNPERmM8t3K"
   },
   "source": [
    "# Import Libraries"
   ]
  },
  {
   "cell_type": "code",
   "execution_count": 22,
   "metadata": {
    "executionInfo": {
     "elapsed": 2114,
     "status": "ok",
     "timestamp": 1727657328297,
     "user": {
      "displayName": "Pararawendy Indarjo",
      "userId": "09035664507663317723"
     },
     "user_tz": -420
    },
    "id": "CEPVSzPl8t3K"
   },
   "outputs": [],
   "source": [
    "import numpy as np\n",
    "import pandas as pd\n",
    "import seaborn as sns\n",
    "import matplotlib.pyplot as plt\n",
    "pd.set_option(\"display.max_columns\", None)\n",
    "pd.set_option(\"display.max_rows\", None)"
   ]
  },
  {
   "cell_type": "markdown",
   "metadata": {
    "id": "E4mrHxIX8t3L"
   },
   "source": [
    "# Load Data"
   ]
  },
  {
   "cell_type": "code",
   "execution_count": 23,
   "metadata": {
    "executionInfo": {
     "elapsed": 1509,
     "status": "ok",
     "timestamp": 1727657330297,
     "user": {
      "displayName": "Pararawendy Indarjo",
      "userId": "09035664507663317723"
     },
     "user_tz": -420
    },
    "id": "W7FS1Kmw8t3L"
   },
   "outputs": [],
   "source": [
    "# adjust the path accordingly\n",
    "df = pd.read_csv('admission_data.csv')\n",
    "data = df.copy()"
   ]
  },
  {
   "cell_type": "markdown",
   "metadata": {
    "id": "RZgJ-Mpz8t3L"
   },
   "source": [
    "#  Preliminary"
   ]
  },
  {
   "cell_type": "code",
   "execution_count": 24,
   "metadata": {
    "colab": {
     "base_uri": "https://localhost:8080/",
     "height": 206
    },
    "executionInfo": {
     "elapsed": 3,
     "status": "ok",
     "timestamp": 1727657330297,
     "user": {
      "displayName": "Pararawendy Indarjo",
      "userId": "09035664507663317723"
     },
     "user_tz": -420
    },
    "id": "pxAw-7XO8t3M",
    "outputId": "5ba68b7d-aa6a-4a1e-ddc4-c24b4e9798bc"
   },
   "outputs": [
    {
     "data": {
      "text/html": [
       "<div>\n",
       "<style scoped>\n",
       "    .dataframe tbody tr th:only-of-type {\n",
       "        vertical-align: middle;\n",
       "    }\n",
       "\n",
       "    .dataframe tbody tr th {\n",
       "        vertical-align: top;\n",
       "    }\n",
       "\n",
       "    .dataframe thead th {\n",
       "        text-align: right;\n",
       "    }\n",
       "</style>\n",
       "<table border=\"1\" class=\"dataframe\">\n",
       "  <thead>\n",
       "    <tr style=\"text-align: right;\">\n",
       "      <th></th>\n",
       "      <th>gre_score</th>\n",
       "      <th>toefl_score</th>\n",
       "      <th>univ_ranking</th>\n",
       "      <th>motiv_letter_strength</th>\n",
       "      <th>recommendation_strength</th>\n",
       "      <th>gpa</th>\n",
       "      <th>research_exp</th>\n",
       "      <th>admit_status</th>\n",
       "    </tr>\n",
       "  </thead>\n",
       "  <tbody>\n",
       "    <tr>\n",
       "      <th>0</th>\n",
       "      <td>337.0</td>\n",
       "      <td>118.0</td>\n",
       "      <td>4.0</td>\n",
       "      <td>4.5</td>\n",
       "      <td>4.5</td>\n",
       "      <td>9.65</td>\n",
       "      <td>yes</td>\n",
       "      <td>1</td>\n",
       "    </tr>\n",
       "    <tr>\n",
       "      <th>1</th>\n",
       "      <td>324.0</td>\n",
       "      <td>107.0</td>\n",
       "      <td>4.0</td>\n",
       "      <td>4.0</td>\n",
       "      <td>4.5</td>\n",
       "      <td>8.87</td>\n",
       "      <td>yes</td>\n",
       "      <td>1</td>\n",
       "    </tr>\n",
       "    <tr>\n",
       "      <th>2</th>\n",
       "      <td>316.0</td>\n",
       "      <td>104.0</td>\n",
       "      <td>3.0</td>\n",
       "      <td>3.0</td>\n",
       "      <td>3.5</td>\n",
       "      <td>8.00</td>\n",
       "      <td>yes</td>\n",
       "      <td>1</td>\n",
       "    </tr>\n",
       "    <tr>\n",
       "      <th>3</th>\n",
       "      <td>322.0</td>\n",
       "      <td>110.0</td>\n",
       "      <td>3.0</td>\n",
       "      <td>3.5</td>\n",
       "      <td>2.5</td>\n",
       "      <td>8.67</td>\n",
       "      <td>yes</td>\n",
       "      <td>1</td>\n",
       "    </tr>\n",
       "    <tr>\n",
       "      <th>4</th>\n",
       "      <td>314.0</td>\n",
       "      <td>103.0</td>\n",
       "      <td>2.0</td>\n",
       "      <td>2.0</td>\n",
       "      <td>3.0</td>\n",
       "      <td>8.21</td>\n",
       "      <td>no</td>\n",
       "      <td>0</td>\n",
       "    </tr>\n",
       "  </tbody>\n",
       "</table>\n",
       "</div>"
      ],
      "text/plain": [
       "   gre_score  toefl_score  univ_ranking  motiv_letter_strength  \\\n",
       "0      337.0        118.0           4.0                    4.5   \n",
       "1      324.0        107.0           4.0                    4.0   \n",
       "2      316.0        104.0           3.0                    3.0   \n",
       "3      322.0        110.0           3.0                    3.5   \n",
       "4      314.0        103.0           2.0                    2.0   \n",
       "\n",
       "   recommendation_strength   gpa research_exp  admit_status  \n",
       "0                      4.5  9.65          yes             1  \n",
       "1                      4.5  8.87          yes             1  \n",
       "2                      3.5  8.00          yes             1  \n",
       "3                      2.5  8.67          yes             1  \n",
       "4                      3.0  8.21           no             0  "
      ]
     },
     "execution_count": 24,
     "metadata": {},
     "output_type": "execute_result"
    }
   ],
   "source": [
    "# Showing top 5 rows of the data\n",
    "data.head()"
   ]
  },
  {
   "cell_type": "code",
   "execution_count": 25,
   "metadata": {},
   "outputs": [
    {
     "data": {
      "text/html": [
       "<div>\n",
       "<style scoped>\n",
       "    .dataframe tbody tr th:only-of-type {\n",
       "        vertical-align: middle;\n",
       "    }\n",
       "\n",
       "    .dataframe tbody tr th {\n",
       "        vertical-align: top;\n",
       "    }\n",
       "\n",
       "    .dataframe thead th {\n",
       "        text-align: right;\n",
       "    }\n",
       "</style>\n",
       "<table border=\"1\" class=\"dataframe\">\n",
       "  <thead>\n",
       "    <tr style=\"text-align: right;\">\n",
       "      <th></th>\n",
       "      <th>gre_score</th>\n",
       "      <th>toefl_score</th>\n",
       "      <th>univ_ranking</th>\n",
       "      <th>motiv_letter_strength</th>\n",
       "      <th>recommendation_strength</th>\n",
       "      <th>gpa</th>\n",
       "      <th>research_exp</th>\n",
       "      <th>admit_status</th>\n",
       "    </tr>\n",
       "  </thead>\n",
       "  <tbody>\n",
       "    <tr>\n",
       "      <th>500</th>\n",
       "      <td>313.0</td>\n",
       "      <td>102.0</td>\n",
       "      <td>3.0</td>\n",
       "      <td>3.5</td>\n",
       "      <td>4.0</td>\n",
       "      <td>8.90</td>\n",
       "      <td>yes</td>\n",
       "      <td>1</td>\n",
       "    </tr>\n",
       "    <tr>\n",
       "      <th>501</th>\n",
       "      <td>328.0</td>\n",
       "      <td>108.0</td>\n",
       "      <td>4.0</td>\n",
       "      <td>4.5</td>\n",
       "      <td>4.0</td>\n",
       "      <td>9.18</td>\n",
       "      <td>yes</td>\n",
       "      <td>1</td>\n",
       "    </tr>\n",
       "    <tr>\n",
       "      <th>502</th>\n",
       "      <td>321.0</td>\n",
       "      <td>109.0</td>\n",
       "      <td>4.0</td>\n",
       "      <td>4.0</td>\n",
       "      <td>4.0</td>\n",
       "      <td>8.68</td>\n",
       "      <td>yes</td>\n",
       "      <td>0</td>\n",
       "    </tr>\n",
       "    <tr>\n",
       "      <th>503</th>\n",
       "      <td>325.0</td>\n",
       "      <td>106.0</td>\n",
       "      <td>3.0</td>\n",
       "      <td>3.5</td>\n",
       "      <td>4.0</td>\n",
       "      <td>8.40</td>\n",
       "      <td>yes</td>\n",
       "      <td>0</td>\n",
       "    </tr>\n",
       "    <tr>\n",
       "      <th>504</th>\n",
       "      <td>314.0</td>\n",
       "      <td>106.0</td>\n",
       "      <td>3.0</td>\n",
       "      <td>3.0</td>\n",
       "      <td>5.0</td>\n",
       "      <td>8.90</td>\n",
       "      <td>no</td>\n",
       "      <td>1</td>\n",
       "    </tr>\n",
       "  </tbody>\n",
       "</table>\n",
       "</div>"
      ],
      "text/plain": [
       "     gre_score  toefl_score  univ_ranking  motiv_letter_strength  \\\n",
       "500      313.0        102.0           3.0                    3.5   \n",
       "501      328.0        108.0           4.0                    4.5   \n",
       "502      321.0        109.0           4.0                    4.0   \n",
       "503      325.0        106.0           3.0                    3.5   \n",
       "504      314.0        106.0           3.0                    3.0   \n",
       "\n",
       "     recommendation_strength   gpa research_exp  admit_status  \n",
       "500                      4.0  8.90          yes             1  \n",
       "501                      4.0  9.18          yes             1  \n",
       "502                      4.0  8.68          yes             0  \n",
       "503                      4.0  8.40          yes             0  \n",
       "504                      5.0  8.90           no             1  "
      ]
     },
     "execution_count": 25,
     "metadata": {},
     "output_type": "execute_result"
    }
   ],
   "source": [
    "data.tail()"
   ]
  },
  {
   "cell_type": "code",
   "execution_count": 26,
   "metadata": {
    "colab": {
     "base_uri": "https://localhost:8080/",
     "height": 206
    },
    "executionInfo": {
     "elapsed": 5,
     "status": "ok",
     "timestamp": 1727657331701,
     "user": {
      "displayName": "Pararawendy Indarjo",
      "userId": "09035664507663317723"
     },
     "user_tz": -420
    },
    "id": "fVGbCHd_8t3M",
    "outputId": "e9778114-9cd5-452f-ca0f-ccb3b4006982"
   },
   "outputs": [
    {
     "data": {
      "text/html": [
       "<div>\n",
       "<style scoped>\n",
       "    .dataframe tbody tr th:only-of-type {\n",
       "        vertical-align: middle;\n",
       "    }\n",
       "\n",
       "    .dataframe tbody tr th {\n",
       "        vertical-align: top;\n",
       "    }\n",
       "\n",
       "    .dataframe thead th {\n",
       "        text-align: right;\n",
       "    }\n",
       "</style>\n",
       "<table border=\"1\" class=\"dataframe\">\n",
       "  <thead>\n",
       "    <tr style=\"text-align: right;\">\n",
       "      <th></th>\n",
       "      <th>gre_score</th>\n",
       "      <th>toefl_score</th>\n",
       "      <th>univ_ranking</th>\n",
       "      <th>motiv_letter_strength</th>\n",
       "      <th>recommendation_strength</th>\n",
       "      <th>gpa</th>\n",
       "      <th>research_exp</th>\n",
       "      <th>admit_status</th>\n",
       "    </tr>\n",
       "  </thead>\n",
       "  <tbody>\n",
       "    <tr>\n",
       "      <th>67</th>\n",
       "      <td>316.0</td>\n",
       "      <td>107.0</td>\n",
       "      <td>2.0</td>\n",
       "      <td>3.5</td>\n",
       "      <td>3.5</td>\n",
       "      <td>8.64</td>\n",
       "      <td>yes</td>\n",
       "      <td>0</td>\n",
       "    </tr>\n",
       "    <tr>\n",
       "      <th>37</th>\n",
       "      <td>300.0</td>\n",
       "      <td>105.0</td>\n",
       "      <td>NaN</td>\n",
       "      <td>1.0</td>\n",
       "      <td>2.0</td>\n",
       "      <td>7.80</td>\n",
       "      <td>no</td>\n",
       "      <td>0</td>\n",
       "    </tr>\n",
       "    <tr>\n",
       "      <th>239</th>\n",
       "      <td>299.0</td>\n",
       "      <td>100.0</td>\n",
       "      <td>1.0</td>\n",
       "      <td>1.5</td>\n",
       "      <td>2.0</td>\n",
       "      <td>7.89</td>\n",
       "      <td>no</td>\n",
       "      <td>0</td>\n",
       "    </tr>\n",
       "    <tr>\n",
       "      <th>407</th>\n",
       "      <td>298.0</td>\n",
       "      <td>100.0</td>\n",
       "      <td>3.0</td>\n",
       "      <td>2.5</td>\n",
       "      <td>4.0</td>\n",
       "      <td>7.95</td>\n",
       "      <td>yes</td>\n",
       "      <td>0</td>\n",
       "    </tr>\n",
       "    <tr>\n",
       "      <th>437</th>\n",
       "      <td>317.0</td>\n",
       "      <td>106.0</td>\n",
       "      <td>NaN</td>\n",
       "      <td>1.5</td>\n",
       "      <td>3.5</td>\n",
       "      <td>7.65</td>\n",
       "      <td>yes</td>\n",
       "      <td>0</td>\n",
       "    </tr>\n",
       "  </tbody>\n",
       "</table>\n",
       "</div>"
      ],
      "text/plain": [
       "     gre_score  toefl_score  univ_ranking  motiv_letter_strength  \\\n",
       "67       316.0        107.0           2.0                    3.5   \n",
       "37       300.0        105.0           NaN                    1.0   \n",
       "239      299.0        100.0           1.0                    1.5   \n",
       "407      298.0        100.0           3.0                    2.5   \n",
       "437      317.0        106.0           NaN                    1.5   \n",
       "\n",
       "     recommendation_strength   gpa research_exp  admit_status  \n",
       "67                       3.5  8.64          yes             0  \n",
       "37                       2.0  7.80           no             0  \n",
       "239                      2.0  7.89           no             0  \n",
       "407                      4.0  7.95          yes             0  \n",
       "437                      3.5  7.65          yes             0  "
      ]
     },
     "execution_count": 26,
     "metadata": {},
     "output_type": "execute_result"
    }
   ],
   "source": [
    "# sample 5 rows of the data\n",
    "# the results change everytime the code is executed (random sample)\n",
    "data.sample(5)"
   ]
  },
  {
   "cell_type": "markdown",
   "metadata": {
    "id": "ozxhuNxdpa9d"
   },
   "source": [
    "Observations:\n",
    "1. All columns, except `research_exp` column, are numeric\n",
    "2. `research_exp` column seems to contain two distinct values (yes OR no), but will confirm later\n",
    "3. `admit_status` is apparently also binary (0,1)\n",
    "4. No obvious defect on the data (column name vs its entries), all looks good"
   ]
  },
  {
   "cell_type": "code",
   "execution_count": 27,
   "metadata": {
    "colab": {
     "base_uri": "https://localhost:8080/"
    },
    "executionInfo": {
     "elapsed": 381,
     "status": "ok",
     "timestamp": 1727657342485,
     "user": {
      "displayName": "Pararawendy Indarjo",
      "userId": "09035664507663317723"
     },
     "user_tz": -420
    },
    "id": "bG8e06FW8t3P",
    "outputId": "b6c45e57-3e0a-4737-a566-eb71914e6298"
   },
   "outputs": [
    {
     "name": "stdout",
     "output_type": "stream",
     "text": [
      "<class 'pandas.core.frame.DataFrame'>\n",
      "RangeIndex: 505 entries, 0 to 504\n",
      "Data columns (total 8 columns):\n",
      " #   Column                   Non-Null Count  Dtype  \n",
      "---  ------                   --------------  -----  \n",
      " 0   gre_score                496 non-null    float64\n",
      " 1   toefl_score              497 non-null    float64\n",
      " 2   univ_ranking             498 non-null    float64\n",
      " 3   motiv_letter_strength    503 non-null    float64\n",
      " 4   recommendation_strength  499 non-null    float64\n",
      " 5   gpa                      501 non-null    float64\n",
      " 6   research_exp             505 non-null    object \n",
      " 7   admit_status             505 non-null    int64  \n",
      "dtypes: float64(6), int64(1), object(1)\n",
      "memory usage: 31.7+ KB\n"
     ]
    }
   ],
   "source": [
    "data.info()"
   ]
  },
  {
   "cell_type": "markdown",
   "metadata": {
    "id": "fYb26YO78t3P"
   },
   "source": [
    "Observation:\n",
    "1. Data contains 8 columns with 505 rows\n",
    "2. Most of the columns have missing values (except `research_exp` and `admit_status`), they will be handled later\n",
    "3. All dtypes seem OK (appropriate), given the corresponding column name"
   ]
  },
  {
   "cell_type": "markdown",
   "metadata": {
    "id": "gQdjxWal8t3T"
   },
   "source": [
    "# Statistical Summary"
   ]
  },
  {
   "cell_type": "code",
   "execution_count": 28,
   "metadata": {},
   "outputs": [
    {
     "data": {
      "text/plain": [
       "Index(['gre_score', 'toefl_score', 'univ_ranking', 'motiv_letter_strength',\n",
       "       'recommendation_strength', 'gpa', 'research_exp', 'admit_status'],\n",
       "      dtype='object')"
      ]
     },
     "execution_count": 28,
     "metadata": {},
     "output_type": "execute_result"
    }
   ],
   "source": [
    "data.columns"
   ]
  },
  {
   "cell_type": "code",
   "execution_count": 29,
   "metadata": {
    "executionInfo": {
     "elapsed": 386,
     "status": "ok",
     "timestamp": 1727657406879,
     "user": {
      "displayName": "Pararawendy Indarjo",
      "userId": "09035664507663317723"
     },
     "user_tz": -420
    },
    "id": "MYsGPnVI8t3T"
   },
   "outputs": [],
   "source": [
    "# group column names based on type\n",
    "# it will make our life easier onwards\n",
    "categoricals = ['research_exp']\n",
    "\n",
    "numericals = ['gre_score', 'toefl_score', 'univ_ranking',\n",
    "              'motiv_letter_strength','recommendation_strength',\n",
    "              'gpa','admit_status']"
   ]
  },
  {
   "cell_type": "code",
   "execution_count": 30,
   "metadata": {
    "colab": {
     "base_uri": "https://localhost:8080/",
     "height": 300
    },
    "executionInfo": {
     "elapsed": 347,
     "status": "ok",
     "timestamp": 1727657408224,
     "user": {
      "displayName": "Pararawendy Indarjo",
      "userId": "09035664507663317723"
     },
     "user_tz": -420
    },
    "id": "MAE1JQHS8t3T",
    "outputId": "093b3d0e-ef8b-4eea-d83a-1f1bab412be9"
   },
   "outputs": [
    {
     "data": {
      "text/html": [
       "<div>\n",
       "<style scoped>\n",
       "    .dataframe tbody tr th:only-of-type {\n",
       "        vertical-align: middle;\n",
       "    }\n",
       "\n",
       "    .dataframe tbody tr th {\n",
       "        vertical-align: top;\n",
       "    }\n",
       "\n",
       "    .dataframe thead th {\n",
       "        text-align: right;\n",
       "    }\n",
       "</style>\n",
       "<table border=\"1\" class=\"dataframe\">\n",
       "  <thead>\n",
       "    <tr style=\"text-align: right;\">\n",
       "      <th></th>\n",
       "      <th>gre_score</th>\n",
       "      <th>toefl_score</th>\n",
       "      <th>univ_ranking</th>\n",
       "      <th>motiv_letter_strength</th>\n",
       "      <th>recommendation_strength</th>\n",
       "      <th>gpa</th>\n",
       "      <th>admit_status</th>\n",
       "    </tr>\n",
       "  </thead>\n",
       "  <tbody>\n",
       "    <tr>\n",
       "      <th>count</th>\n",
       "      <td>496.000000</td>\n",
       "      <td>497.000000</td>\n",
       "      <td>498.000000</td>\n",
       "      <td>503.000000</td>\n",
       "      <td>499.000000</td>\n",
       "      <td>501.000000</td>\n",
       "      <td>505.000000</td>\n",
       "    </tr>\n",
       "    <tr>\n",
       "      <th>mean</th>\n",
       "      <td>316.491935</td>\n",
       "      <td>107.173038</td>\n",
       "      <td>3.130522</td>\n",
       "      <td>3.382704</td>\n",
       "      <td>3.484970</td>\n",
       "      <td>8.574571</td>\n",
       "      <td>0.574257</td>\n",
       "    </tr>\n",
       "    <tr>\n",
       "      <th>std</th>\n",
       "      <td>11.218848</td>\n",
       "      <td>6.024667</td>\n",
       "      <td>1.135238</td>\n",
       "      <td>0.985532</td>\n",
       "      <td>0.925582</td>\n",
       "      <td>0.600892</td>\n",
       "      <td>0.494945</td>\n",
       "    </tr>\n",
       "    <tr>\n",
       "      <th>min</th>\n",
       "      <td>290.000000</td>\n",
       "      <td>92.000000</td>\n",
       "      <td>1.000000</td>\n",
       "      <td>1.000000</td>\n",
       "      <td>1.000000</td>\n",
       "      <td>6.800000</td>\n",
       "      <td>0.000000</td>\n",
       "    </tr>\n",
       "    <tr>\n",
       "      <th>25%</th>\n",
       "      <td>308.000000</td>\n",
       "      <td>103.000000</td>\n",
       "      <td>2.000000</td>\n",
       "      <td>2.500000</td>\n",
       "      <td>3.000000</td>\n",
       "      <td>8.130000</td>\n",
       "      <td>0.000000</td>\n",
       "    </tr>\n",
       "    <tr>\n",
       "      <th>50%</th>\n",
       "      <td>317.000000</td>\n",
       "      <td>107.000000</td>\n",
       "      <td>3.000000</td>\n",
       "      <td>3.500000</td>\n",
       "      <td>3.500000</td>\n",
       "      <td>8.560000</td>\n",
       "      <td>1.000000</td>\n",
       "    </tr>\n",
       "    <tr>\n",
       "      <th>75%</th>\n",
       "      <td>325.000000</td>\n",
       "      <td>112.000000</td>\n",
       "      <td>4.000000</td>\n",
       "      <td>4.000000</td>\n",
       "      <td>4.000000</td>\n",
       "      <td>9.040000</td>\n",
       "      <td>1.000000</td>\n",
       "    </tr>\n",
       "    <tr>\n",
       "      <th>max</th>\n",
       "      <td>340.000000</td>\n",
       "      <td>120.000000</td>\n",
       "      <td>5.000000</td>\n",
       "      <td>5.000000</td>\n",
       "      <td>5.000000</td>\n",
       "      <td>9.920000</td>\n",
       "      <td>1.000000</td>\n",
       "    </tr>\n",
       "  </tbody>\n",
       "</table>\n",
       "</div>"
      ],
      "text/plain": [
       "        gre_score  toefl_score  univ_ranking  motiv_letter_strength  \\\n",
       "count  496.000000   497.000000    498.000000             503.000000   \n",
       "mean   316.491935   107.173038      3.130522               3.382704   \n",
       "std     11.218848     6.024667      1.135238               0.985532   \n",
       "min    290.000000    92.000000      1.000000               1.000000   \n",
       "25%    308.000000   103.000000      2.000000               2.500000   \n",
       "50%    317.000000   107.000000      3.000000               3.500000   \n",
       "75%    325.000000   112.000000      4.000000               4.000000   \n",
       "max    340.000000   120.000000      5.000000               5.000000   \n",
       "\n",
       "       recommendation_strength         gpa  admit_status  \n",
       "count               499.000000  501.000000    505.000000  \n",
       "mean                  3.484970    8.574571      0.574257  \n",
       "std                   0.925582    0.600892      0.494945  \n",
       "min                   1.000000    6.800000      0.000000  \n",
       "25%                   3.000000    8.130000      0.000000  \n",
       "50%                   3.500000    8.560000      1.000000  \n",
       "75%                   4.000000    9.040000      1.000000  \n",
       "max                   5.000000    9.920000      1.000000  "
      ]
     },
     "execution_count": 30,
     "metadata": {},
     "output_type": "execute_result"
    }
   ],
   "source": [
    "# Syntax numerical statistical summary\n",
    "data[numericals].describe()"
   ]
  },
  {
   "cell_type": "markdown",
   "metadata": {
    "id": "dIh_SjOa8t3U"
   },
   "source": [
    "Observation:\n",
    "* Overall, the minimum and maximum values make sense for each column\n",
    "* Mean ~ 50% (Median) in `gre_score`, `toefl_score`, and `gpa` column, indicating somewhat a symmetrical distribution\n",
    "* `admit_status` column is boolean/binary column since the value is 0 or 1, no need to conclude its simmetricity. Only need to check balance level\n",
    "* `univ_ranking`, `motiv_letter_strength`, and `recommendation_strength` are discrete values with not that many unique values, need to check values distribution later.\n"
   ]
  },
  {
   "cell_type": "code",
   "execution_count": 31,
   "metadata": {
    "colab": {
     "base_uri": "https://localhost:8080/",
     "height": 175
    },
    "executionInfo": {
     "elapsed": 370,
     "status": "ok",
     "timestamp": 1727657530831,
     "user": {
      "displayName": "Pararawendy Indarjo",
      "userId": "09035664507663317723"
     },
     "user_tz": -420
    },
    "id": "0kH7ogc28t3U",
    "outputId": "f3849911-01b2-4bb3-ae92-db694684707a"
   },
   "outputs": [
    {
     "data": {
      "text/html": [
       "<div>\n",
       "<style scoped>\n",
       "    .dataframe tbody tr th:only-of-type {\n",
       "        vertical-align: middle;\n",
       "    }\n",
       "\n",
       "    .dataframe tbody tr th {\n",
       "        vertical-align: top;\n",
       "    }\n",
       "\n",
       "    .dataframe thead th {\n",
       "        text-align: right;\n",
       "    }\n",
       "</style>\n",
       "<table border=\"1\" class=\"dataframe\">\n",
       "  <thead>\n",
       "    <tr style=\"text-align: right;\">\n",
       "      <th></th>\n",
       "      <th>research_exp</th>\n",
       "    </tr>\n",
       "  </thead>\n",
       "  <tbody>\n",
       "    <tr>\n",
       "      <th>count</th>\n",
       "      <td>505</td>\n",
       "    </tr>\n",
       "    <tr>\n",
       "      <th>unique</th>\n",
       "      <td>2</td>\n",
       "    </tr>\n",
       "    <tr>\n",
       "      <th>top</th>\n",
       "      <td>yes</td>\n",
       "    </tr>\n",
       "    <tr>\n",
       "      <th>freq</th>\n",
       "      <td>280</td>\n",
       "    </tr>\n",
       "  </tbody>\n",
       "</table>\n",
       "</div>"
      ],
      "text/plain": [
       "       research_exp\n",
       "count           505\n",
       "unique            2\n",
       "top             yes\n",
       "freq            280"
      ]
     },
     "execution_count": 31,
     "metadata": {},
     "output_type": "execute_result"
    }
   ],
   "source": [
    "# Syntax describe method on categorical data\n",
    "data[categoricals].describe()"
   ]
  },
  {
   "cell_type": "markdown",
   "metadata": {
    "id": "2EQpnaxF8t3U"
   },
   "source": [
    "Observations:\n",
    "* `research_exp` have 2 unique value, 'yes', and 'no'\n",
    "* student most have research_exp (280 rows), and the rest have no research experience."
   ]
  },
  {
   "cell_type": "code",
   "execution_count": 32,
   "metadata": {
    "colab": {
     "base_uri": "https://localhost:8080/"
    },
    "executionInfo": {
     "elapsed": 475,
     "status": "ok",
     "timestamp": 1727657539135,
     "user": {
      "displayName": "Pararawendy Indarjo",
      "userId": "09035664507663317723"
     },
     "user_tz": -420
    },
    "id": "1vb9neyQ8t3V",
    "outputId": "47dcf078-8591-42a0-8708-084c3f1ea19f",
    "scrolled": true
   },
   "outputs": [
    {
     "name": "stdout",
     "output_type": "stream",
     "text": [
      "Value counts of research_exp column\n",
      "yes    280\n",
      "no     225\n",
      "Name: research_exp, dtype: int64 \n",
      "\n"
     ]
    }
   ],
   "source": [
    "# showing the precise value counts\n",
    "# this code is especially useful if we have many categorical columns\n",
    "for col in categoricals:\n",
    "  print(f\"Value counts of {col} column\")\n",
    "  print(data[col].value_counts(), '\\n')"
   ]
  },
  {
   "cell_type": "code",
   "execution_count": 33,
   "metadata": {},
   "outputs": [
    {
     "name": "stdout",
     "output_type": "stream",
     "text": [
      "==== gre_score ====\n",
      "312.0    24\n",
      "324.0    23\n",
      "316.0    18\n",
      "322.0    17\n",
      "321.0    17\n",
      "325.0    16\n",
      "327.0    16\n",
      "311.0    16\n",
      "314.0    16\n",
      "320.0    15\n",
      "317.0    15\n",
      "315.0    13\n",
      "323.0    13\n",
      "313.0    13\n",
      "308.0    13\n",
      "326.0    12\n",
      "319.0    12\n",
      "318.0    12\n",
      "300.0    12\n",
      "301.0    11\n",
      "304.0    11\n",
      "305.0    11\n",
      "310.0    11\n",
      "328.0    10\n",
      "299.0    10\n",
      "298.0    10\n",
      "329.0    10\n",
      "331.0     9\n",
      "340.0     9\n",
      "307.0     9\n",
      "309.0     9\n",
      "334.0     8\n",
      "330.0     8\n",
      "306.0     7\n",
      "332.0     7\n",
      "302.0     7\n",
      "297.0     6\n",
      "296.0     5\n",
      "295.0     5\n",
      "336.0     5\n",
      "303.0     5\n",
      "333.0     4\n",
      "335.0     4\n",
      "339.0     3\n",
      "338.0     3\n",
      "337.0     2\n",
      "290.0     2\n",
      "293.0     1\n",
      "294.0     1\n",
      "Name: gre_score, dtype: int64 \n",
      "\n",
      "==== toefl_score ====\n",
      "110.0    43\n",
      "105.0    37\n",
      "106.0    30\n",
      "104.0    29\n",
      "107.0    28\n",
      "112.0    28\n",
      "102.0    25\n",
      "103.0    25\n",
      "100.0    23\n",
      "99.0     23\n",
      "109.0    20\n",
      "101.0    20\n",
      "108.0    20\n",
      "111.0    20\n",
      "113.0    18\n",
      "114.0    17\n",
      "116.0    15\n",
      "118.0    10\n",
      "119.0    10\n",
      "115.0    10\n",
      "98.0      9\n",
      "120.0     9\n",
      "117.0     8\n",
      "97.0      7\n",
      "96.0      5\n",
      "95.0      3\n",
      "93.0      2\n",
      "94.0      2\n",
      "92.0      1\n",
      "Name: toefl_score, dtype: int64 \n",
      "\n",
      "==== univ_ranking ====\n",
      "3.0    164\n",
      "2.0    123\n",
      "4.0    106\n",
      "5.0     73\n",
      "1.0     32\n",
      "Name: univ_ranking, dtype: int64 \n",
      "\n",
      "==== motiv_letter_strength ====\n",
      "4.0    90\n",
      "3.5    90\n",
      "3.0    81\n",
      "4.5    64\n",
      "2.5    63\n",
      "2.0    43\n",
      "5.0    42\n",
      "1.5    24\n",
      "1.0     6\n",
      "Name: motiv_letter_strength, dtype: int64 \n",
      "\n",
      "==== recommendation_strength ====\n",
      "3.0    98\n",
      "4.0    96\n",
      "3.5    85\n",
      "4.5    62\n",
      "2.5    50\n",
      "5.0    50\n",
      "2.0    46\n",
      "1.5    11\n",
      "1.0     1\n",
      "Name: recommendation_strength, dtype: int64 \n",
      "\n",
      "==== gpa ====\n",
      "8.00    9\n",
      "8.76    9\n",
      "8.56    7\n",
      "8.54    7\n",
      "8.45    7\n",
      "8.34    6\n",
      "9.11    6\n",
      "8.50    6\n",
      "8.66    6\n",
      "8.64    6\n",
      "9.02    6\n",
      "8.65    6\n",
      "7.88    6\n",
      "9.04    6\n",
      "8.12    6\n",
      "8.13    5\n",
      "7.65    5\n",
      "9.23    5\n",
      "7.86    5\n",
      "8.02    5\n",
      "8.22    5\n",
      "8.27    5\n",
      "7.89    5\n",
      "8.90    5\n",
      "8.10    5\n",
      "9.10    5\n",
      "8.67    5\n",
      "7.64    5\n",
      "8.20    5\n",
      "8.78    5\n",
      "8.40    5\n",
      "8.26    5\n",
      "9.00    5\n",
      "8.80    5\n",
      "9.36    4\n",
      "8.77    4\n",
      "9.08    4\n",
      "8.97    4\n",
      "8.46    4\n",
      "8.48    4\n",
      "8.33    4\n",
      "8.96    4\n",
      "8.03    4\n",
      "8.68    4\n",
      "9.45    4\n",
      "8.43    4\n",
      "7.90    4\n",
      "8.30    4\n",
      "8.79    4\n",
      "9.14    4\n",
      "9.16    4\n",
      "9.22    4\n",
      "9.13    4\n",
      "8.44    3\n",
      "7.68    3\n",
      "8.62    3\n",
      "8.01    3\n",
      "7.46    3\n",
      "8.36    3\n",
      "8.57    3\n",
      "9.01    3\n",
      "8.16    3\n",
      "8.73    3\n",
      "8.37    3\n",
      "8.69    3\n",
      "8.87    3\n",
      "9.44    3\n",
      "8.18    3\n",
      "8.04    3\n",
      "8.74    3\n",
      "9.66    3\n",
      "9.06    3\n",
      "8.24    3\n",
      "8.75    3\n",
      "8.53    3\n",
      "9.12    3\n",
      "7.95    3\n",
      "9.18    3\n",
      "9.80    3\n",
      "7.66    3\n",
      "7.80    3\n",
      "9.60    3\n",
      "8.42    3\n",
      "8.21    3\n",
      "9.25    2\n",
      "8.94    2\n",
      "7.50    2\n",
      "9.87    2\n",
      "8.32    2\n",
      "7.34    2\n",
      "9.40    2\n",
      "9.26    2\n",
      "7.70    2\n",
      "8.07    2\n",
      "9.76    2\n",
      "9.17    2\n",
      "9.19    2\n",
      "9.70    2\n",
      "9.50    2\n",
      "8.15    2\n",
      "8.70    2\n",
      "8.60    2\n",
      "8.09    2\n",
      "8.17    2\n",
      "9.34    2\n",
      "7.98    2\n",
      "8.49    2\n",
      "8.88    2\n",
      "8.47    2\n",
      "7.67    2\n",
      "9.54    2\n",
      "7.92    2\n",
      "8.14    2\n",
      "9.15    2\n",
      "9.46    2\n",
      "9.24    2\n",
      "7.43    2\n",
      "7.94    2\n",
      "9.48    2\n",
      "9.56    2\n",
      "8.84    2\n",
      "7.56    2\n",
      "9.28    2\n",
      "7.96    1\n",
      "8.95    1\n",
      "9.82    1\n",
      "7.97    1\n",
      "7.87    1\n",
      "9.62    1\n",
      "8.06    1\n",
      "8.55    1\n",
      "9.86    1\n",
      "7.81    1\n",
      "9.27    1\n",
      "7.45    1\n",
      "7.21    1\n",
      "7.25    1\n",
      "7.57    1\n",
      "8.86    1\n",
      "9.67    1\n",
      "9.47    1\n",
      "8.35    1\n",
      "9.74    1\n",
      "7.23    1\n",
      "7.42    1\n",
      "7.79    1\n",
      "9.65    1\n",
      "9.68    1\n",
      "8.83    1\n",
      "7.84    1\n",
      "8.28    1\n",
      "7.36    1\n",
      "7.54    1\n",
      "8.72    1\n",
      "9.64    1\n",
      "8.92    1\n",
      "6.80    1\n",
      "7.60    1\n",
      "7.40    1\n",
      "8.85    1\n",
      "9.30    1\n",
      "9.20    1\n",
      "7.30    1\n",
      "7.20    1\n",
      "8.25    1\n",
      "9.05    1\n",
      "9.38    1\n",
      "8.98    1\n",
      "9.31    1\n",
      "8.23    1\n",
      "9.42    1\n",
      "9.91    1\n",
      "8.52    1\n",
      "9.53    1\n",
      "9.07    1\n",
      "7.28    1\n",
      "8.89    1\n",
      "9.43    1\n",
      "9.92    1\n",
      "9.35    1\n",
      "8.71    1\n",
      "9.32    1\n",
      "7.69    1\n",
      "Name: gpa, dtype: int64 \n",
      "\n",
      "==== research_exp ====\n",
      "yes    280\n",
      "no     225\n",
      "Name: research_exp, dtype: int64 \n",
      "\n",
      "==== admit_status ====\n",
      "1    290\n",
      "0    215\n",
      "Name: admit_status, dtype: int64 \n",
      "\n"
     ]
    }
   ],
   "source": [
    "for col in data.columns:\n",
    "  print(f\"==== {col} ====\")\n",
    "  print(data[col].value_counts(), '\\n')"
   ]
  },
  {
   "cell_type": "markdown",
   "metadata": {},
   "source": [
    "# Pembersihan Data"
   ]
  },
  {
   "cell_type": "markdown",
   "metadata": {},
   "source": [
    "## 1. Duplicate Handling"
   ]
  },
  {
   "cell_type": "code",
   "execution_count": 34,
   "metadata": {},
   "outputs": [
    {
     "data": {
      "text/plain": [
       "0.9900990099009901"
      ]
     },
     "execution_count": 34,
     "metadata": {},
     "output_type": "execute_result"
    }
   ],
   "source": [
    "len(data.drop_duplicates()) / len(data)\n",
    "#jika output dari code di cell ini tidak bernilai 1 maka terdapat duplikat"
   ]
  },
  {
   "cell_type": "code",
   "execution_count": 35,
   "metadata": {
    "scrolled": true
   },
   "outputs": [
    {
     "name": "stdout",
     "output_type": "stream",
     "text": [
      "Baris duplikat yang sudah diurutkan berdasarkan jumlah kemunculannya:\n"
     ]
    },
    {
     "data": {
      "text/html": [
       "<div>\n",
       "<style scoped>\n",
       "    .dataframe tbody tr th:only-of-type {\n",
       "        vertical-align: middle;\n",
       "    }\n",
       "\n",
       "    .dataframe tbody tr th {\n",
       "        vertical-align: top;\n",
       "    }\n",
       "\n",
       "    .dataframe thead th {\n",
       "        text-align: right;\n",
       "    }\n",
       "</style>\n",
       "<table border=\"1\" class=\"dataframe\">\n",
       "  <thead>\n",
       "    <tr style=\"text-align: right;\">\n",
       "      <th></th>\n",
       "      <th>gre_score</th>\n",
       "      <th>toefl_score</th>\n",
       "      <th>univ_ranking</th>\n",
       "      <th>motiv_letter_strength</th>\n",
       "      <th>recommendation_strength</th>\n",
       "      <th>gpa</th>\n",
       "      <th>research_exp</th>\n",
       "      <th>admit_status</th>\n",
       "      <th>jumlah_duplikat</th>\n",
       "    </tr>\n",
       "  </thead>\n",
       "  <tbody>\n",
       "    <tr>\n",
       "      <th>0</th>\n",
       "      <td>313.0</td>\n",
       "      <td>102.0</td>\n",
       "      <td>3.0</td>\n",
       "      <td>3.5</td>\n",
       "      <td>4.0</td>\n",
       "      <td>8.90</td>\n",
       "      <td>yes</td>\n",
       "      <td>1</td>\n",
       "      <td>2</td>\n",
       "    </tr>\n",
       "    <tr>\n",
       "      <th>1</th>\n",
       "      <td>314.0</td>\n",
       "      <td>106.0</td>\n",
       "      <td>3.0</td>\n",
       "      <td>3.0</td>\n",
       "      <td>5.0</td>\n",
       "      <td>8.90</td>\n",
       "      <td>no</td>\n",
       "      <td>1</td>\n",
       "      <td>2</td>\n",
       "    </tr>\n",
       "    <tr>\n",
       "      <th>2</th>\n",
       "      <td>321.0</td>\n",
       "      <td>109.0</td>\n",
       "      <td>4.0</td>\n",
       "      <td>4.0</td>\n",
       "      <td>4.0</td>\n",
       "      <td>8.68</td>\n",
       "      <td>yes</td>\n",
       "      <td>0</td>\n",
       "      <td>2</td>\n",
       "    </tr>\n",
       "    <tr>\n",
       "      <th>3</th>\n",
       "      <td>325.0</td>\n",
       "      <td>106.0</td>\n",
       "      <td>3.0</td>\n",
       "      <td>3.5</td>\n",
       "      <td>4.0</td>\n",
       "      <td>8.40</td>\n",
       "      <td>yes</td>\n",
       "      <td>0</td>\n",
       "      <td>2</td>\n",
       "    </tr>\n",
       "    <tr>\n",
       "      <th>4</th>\n",
       "      <td>328.0</td>\n",
       "      <td>108.0</td>\n",
       "      <td>4.0</td>\n",
       "      <td>4.5</td>\n",
       "      <td>4.0</td>\n",
       "      <td>9.18</td>\n",
       "      <td>yes</td>\n",
       "      <td>1</td>\n",
       "      <td>2</td>\n",
       "    </tr>\n",
       "  </tbody>\n",
       "</table>\n",
       "</div>"
      ],
      "text/plain": [
       "   gre_score  toefl_score  univ_ranking  motiv_letter_strength  \\\n",
       "0      313.0        102.0           3.0                    3.5   \n",
       "1      314.0        106.0           3.0                    3.0   \n",
       "2      321.0        109.0           4.0                    4.0   \n",
       "3      325.0        106.0           3.0                    3.5   \n",
       "4      328.0        108.0           4.0                    4.5   \n",
       "\n",
       "   recommendation_strength   gpa research_exp  admit_status  jumlah_duplikat  \n",
       "0                      4.0  8.90          yes             1                2  \n",
       "1                      5.0  8.90           no             1                2  \n",
       "2                      4.0  8.68          yes             0                2  \n",
       "3                      4.0  8.40          yes             0                2  \n",
       "4                      4.0  9.18          yes             1                2  "
      ]
     },
     "execution_count": 35,
     "metadata": {},
     "output_type": "execute_result"
    }
   ],
   "source": [
    "# Langkah 1: Ambil baris duplikat (termasuk yang asli)\n",
    "duplicates = data[data.duplicated(keep=False)]\n",
    "\n",
    "# Langkah 2: Hitung frekuensi kemunculan tiap baris duplikat\n",
    "duplicate_counts = duplicates.groupby(list(data.columns)).size().reset_index(name='jumlah_duplikat')\n",
    "\n",
    "# Langkah 3: Urutkan berdasarkan jumlah duplikat\n",
    "sorted_duplicates = duplicate_counts.sort_values(by='jumlah_duplikat', ascending=False)\n",
    "\n",
    "# Tampilkan hasil\n",
    "print(\"Baris duplikat yang sudah diurutkan berdasarkan jumlah kemunculannya:\")\n",
    "sorted_duplicates"
   ]
  },
  {
   "cell_type": "markdown",
   "metadata": {},
   "source": [
    "Pada kode (df[df.duplicated(keep=False)]), Anda langsung mencetak baris yang memiliki duplikat dengan menggunakan metode duplicated dan memasukkan parameter keep=False. Ini mencetak semua baris yang memiliki duplikat tanpa mengurangi apa pun dari DataFrame."
   ]
  },
  {
   "cell_type": "code",
   "execution_count": 36,
   "metadata": {},
   "outputs": [],
   "source": [
    "#Handling Drop duplicate\n",
    "data = data.drop_duplicates()"
   ]
  },
  {
   "cell_type": "code",
   "execution_count": 37,
   "metadata": {},
   "outputs": [
    {
     "data": {
      "text/plain": [
       "1.0"
      ]
     },
     "execution_count": 37,
     "metadata": {},
     "output_type": "execute_result"
    }
   ],
   "source": [
    "len(data.drop_duplicates()) / len(data)\n",
    "#jika output dari code di cell ini tidak bernilai 1 maka terdapat duplikat"
   ]
  },
  {
   "cell_type": "markdown",
   "metadata": {},
   "source": [
    "#### Telah dihandling drop duplikat"
   ]
  },
  {
   "cell_type": "markdown",
   "metadata": {},
   "source": [
    "# 2. Missing value handling\n",
    "### Identifying Missing value"
   ]
  },
  {
   "cell_type": "code",
   "execution_count": 38,
   "metadata": {},
   "outputs": [
    {
     "data": {
      "text/plain": [
       "gre_score                  9\n",
       "toefl_score                8\n",
       "univ_ranking               7\n",
       "motiv_letter_strength      2\n",
       "recommendation_strength    6\n",
       "gpa                        4\n",
       "research_exp               0\n",
       "admit_status               0\n",
       "dtype: int64"
      ]
     },
     "execution_count": 38,
     "metadata": {},
     "output_type": "execute_result"
    }
   ],
   "source": [
    "data.isna().sum()"
   ]
  },
  {
   "cell_type": "code",
   "execution_count": 39,
   "metadata": {},
   "outputs": [
    {
     "data": {
      "text/plain": [
       "gre_score                  9\n",
       "toefl_score                8\n",
       "univ_ranking               7\n",
       "motiv_letter_strength      2\n",
       "recommendation_strength    6\n",
       "gpa                        4\n",
       "research_exp               0\n",
       "admit_status               0\n",
       "dtype: int64"
      ]
     },
     "execution_count": 39,
     "metadata": {},
     "output_type": "execute_result"
    }
   ],
   "source": [
    "data.isnull().sum()"
   ]
  },
  {
   "cell_type": "code",
   "execution_count": 40,
   "metadata": {},
   "outputs": [
    {
     "name": "stdout",
     "output_type": "stream",
     "text": [
      "============= gre_score =================\n"
     ]
    },
    {
     "data": {
      "text/plain": [
       "312.0    24\n",
       "324.0    23\n",
       "316.0    18\n",
       "322.0    17\n",
       "321.0    16\n",
       "327.0    16\n",
       "311.0    16\n",
       "314.0    15\n",
       "320.0    15\n",
       "325.0    15\n",
       "317.0    15\n",
       "308.0    13\n",
       "323.0    13\n",
       "315.0    13\n",
       "319.0    12\n",
       "318.0    12\n",
       "313.0    12\n",
       "326.0    12\n",
       "300.0    12\n",
       "304.0    11\n",
       "305.0    11\n",
       "301.0    11\n",
       "310.0    11\n",
       "299.0    10\n",
       "329.0    10\n",
       "298.0    10\n",
       "331.0     9\n",
       "340.0     9\n",
       "307.0     9\n",
       "328.0     9\n",
       "309.0     9\n",
       "334.0     8\n",
       "330.0     8\n",
       "306.0     7\n",
       "332.0     7\n",
       "302.0     7\n",
       "297.0     6\n",
       "296.0     5\n",
       "295.0     5\n",
       "336.0     5\n",
       "303.0     5\n",
       "333.0     4\n",
       "335.0     4\n",
       "339.0     3\n",
       "338.0     3\n",
       "337.0     2\n",
       "290.0     2\n",
       "293.0     1\n",
       "294.0     1\n",
       "Name: gre_score, dtype: int64"
      ]
     },
     "metadata": {},
     "output_type": "display_data"
    },
    {
     "name": "stdout",
     "output_type": "stream",
     "text": [
      "\n",
      "============= toefl_score =================\n"
     ]
    },
    {
     "data": {
      "text/plain": [
       "110.0    43\n",
       "105.0    37\n",
       "104.0    29\n",
       "107.0    28\n",
       "106.0    28\n",
       "112.0    28\n",
       "103.0    25\n",
       "102.0    24\n",
       "100.0    23\n",
       "99.0     23\n",
       "101.0    20\n",
       "111.0    20\n",
       "109.0    19\n",
       "108.0    19\n",
       "113.0    18\n",
       "114.0    17\n",
       "116.0    15\n",
       "118.0    10\n",
       "119.0    10\n",
       "115.0    10\n",
       "98.0      9\n",
       "120.0     9\n",
       "117.0     8\n",
       "97.0      7\n",
       "96.0      5\n",
       "95.0      3\n",
       "93.0      2\n",
       "94.0      2\n",
       "92.0      1\n",
       "Name: toefl_score, dtype: int64"
      ]
     },
     "metadata": {},
     "output_type": "display_data"
    },
    {
     "name": "stdout",
     "output_type": "stream",
     "text": [
      "\n",
      "============= univ_ranking =================\n"
     ]
    },
    {
     "data": {
      "text/plain": [
       "3.0    161\n",
       "2.0    123\n",
       "4.0    104\n",
       "5.0     73\n",
       "1.0     32\n",
       "Name: univ_ranking, dtype: int64"
      ]
     },
     "metadata": {},
     "output_type": "display_data"
    },
    {
     "name": "stdout",
     "output_type": "stream",
     "text": [
      "\n",
      "============= motiv_letter_strength =================\n"
     ]
    },
    {
     "data": {
      "text/plain": [
       "4.0    89\n",
       "3.5    88\n",
       "3.0    80\n",
       "4.5    63\n",
       "2.5    63\n",
       "2.0    43\n",
       "5.0    42\n",
       "1.5    24\n",
       "1.0     6\n",
       "Name: motiv_letter_strength, dtype: int64"
      ]
     },
     "metadata": {},
     "output_type": "display_data"
    },
    {
     "name": "stdout",
     "output_type": "stream",
     "text": [
      "\n",
      "============= recommendation_strength =================\n"
     ]
    },
    {
     "data": {
      "text/plain": [
       "3.0    98\n",
       "4.0    92\n",
       "3.5    85\n",
       "4.5    62\n",
       "2.5    50\n",
       "5.0    49\n",
       "2.0    46\n",
       "1.5    11\n",
       "1.0     1\n",
       "Name: recommendation_strength, dtype: int64"
      ]
     },
     "metadata": {},
     "output_type": "display_data"
    },
    {
     "name": "stdout",
     "output_type": "stream",
     "text": [
      "\n",
      "============= gpa =================\n"
     ]
    },
    {
     "data": {
      "text/plain": [
       "8.00    9\n",
       "8.76    9\n",
       "8.45    7\n",
       "8.56    7\n",
       "8.54    7\n",
       "8.50    6\n",
       "8.34    6\n",
       "8.64    6\n",
       "9.02    6\n",
       "8.66    6\n",
       "9.04    6\n",
       "7.88    6\n",
       "9.11    6\n",
       "8.65    6\n",
       "8.12    6\n",
       "8.13    5\n",
       "9.23    5\n",
       "7.86    5\n",
       "8.02    5\n",
       "7.64    5\n",
       "8.78    5\n",
       "8.80    5\n",
       "7.65    5\n",
       "7.89    5\n",
       "8.10    5\n",
       "8.20    5\n",
       "8.26    5\n",
       "9.00    5\n",
       "9.10    5\n",
       "8.67    5\n",
       "8.27    5\n",
       "8.22    5\n",
       "8.97    4\n",
       "8.48    4\n",
       "8.46    4\n",
       "9.36    4\n",
       "8.77    4\n",
       "8.03    4\n",
       "8.96    4\n",
       "9.08    4\n",
       "8.33    4\n",
       "9.16    4\n",
       "9.45    4\n",
       "8.40    4\n",
       "9.22    4\n",
       "9.13    4\n",
       "8.30    4\n",
       "8.79    4\n",
       "8.43    4\n",
       "9.14    4\n",
       "7.90    4\n",
       "8.73    3\n",
       "8.16    3\n",
       "8.36    3\n",
       "8.57    3\n",
       "8.87    3\n",
       "7.46    3\n",
       "8.62    3\n",
       "8.01    3\n",
       "7.68    3\n",
       "8.18    3\n",
       "8.37    3\n",
       "9.44    3\n",
       "8.04    3\n",
       "8.53    3\n",
       "8.74    3\n",
       "9.66    3\n",
       "9.06    3\n",
       "8.75    3\n",
       "8.69    3\n",
       "8.44    3\n",
       "8.24    3\n",
       "9.01    3\n",
       "9.12    3\n",
       "8.68    3\n",
       "7.95    3\n",
       "9.80    3\n",
       "8.42    3\n",
       "7.66    3\n",
       "7.80    3\n",
       "8.90    3\n",
       "9.60    3\n",
       "8.21    3\n",
       "8.70    2\n",
       "8.17    2\n",
       "7.98    2\n",
       "7.34    2\n",
       "8.32    2\n",
       "9.25    2\n",
       "8.94    2\n",
       "7.70    2\n",
       "9.87    2\n",
       "9.34    2\n",
       "9.40    2\n",
       "8.15    2\n",
       "9.26    2\n",
       "7.50    2\n",
       "8.09    2\n",
       "8.07    2\n",
       "8.60    2\n",
       "9.17    2\n",
       "9.19    2\n",
       "9.70    2\n",
       "9.50    2\n",
       "9.76    2\n",
       "8.49    2\n",
       "9.15    2\n",
       "9.48    2\n",
       "8.47    2\n",
       "9.28    2\n",
       "7.67    2\n",
       "9.54    2\n",
       "7.92    2\n",
       "9.18    2\n",
       "8.88    2\n",
       "9.24    2\n",
       "8.14    2\n",
       "7.94    2\n",
       "7.43    2\n",
       "9.56    2\n",
       "8.84    2\n",
       "7.56    2\n",
       "9.46    2\n",
       "7.87    1\n",
       "9.62    1\n",
       "9.82    1\n",
       "7.96    1\n",
       "7.97    1\n",
       "8.95    1\n",
       "8.55    1\n",
       "8.86    1\n",
       "9.86    1\n",
       "8.35    1\n",
       "9.74    1\n",
       "7.79    1\n",
       "9.47    1\n",
       "9.67    1\n",
       "7.57    1\n",
       "7.42    1\n",
       "7.25    1\n",
       "8.06    1\n",
       "7.21    1\n",
       "7.45    1\n",
       "9.27    1\n",
       "7.81    1\n",
       "7.23    1\n",
       "9.65    1\n",
       "9.68    1\n",
       "8.83    1\n",
       "7.84    1\n",
       "8.28    1\n",
       "7.36    1\n",
       "7.54    1\n",
       "8.72    1\n",
       "9.64    1\n",
       "8.92    1\n",
       "6.80    1\n",
       "7.60    1\n",
       "7.40    1\n",
       "8.85    1\n",
       "9.30    1\n",
       "9.20    1\n",
       "7.30    1\n",
       "7.20    1\n",
       "8.25    1\n",
       "9.05    1\n",
       "9.38    1\n",
       "8.98    1\n",
       "9.31    1\n",
       "8.23    1\n",
       "9.42    1\n",
       "9.91    1\n",
       "8.52    1\n",
       "9.53    1\n",
       "9.07    1\n",
       "7.28    1\n",
       "8.89    1\n",
       "9.43    1\n",
       "9.92    1\n",
       "9.35    1\n",
       "8.71    1\n",
       "9.32    1\n",
       "7.69    1\n",
       "Name: gpa, dtype: int64"
      ]
     },
     "metadata": {},
     "output_type": "display_data"
    },
    {
     "name": "stdout",
     "output_type": "stream",
     "text": [
      "\n",
      "============= research_exp =================\n"
     ]
    },
    {
     "data": {
      "text/plain": [
       "yes    276\n",
       "no     224\n",
       "Name: research_exp, dtype: int64"
      ]
     },
     "metadata": {},
     "output_type": "display_data"
    },
    {
     "name": "stdout",
     "output_type": "stream",
     "text": [
      "\n",
      "============= admit_status =================\n"
     ]
    },
    {
     "data": {
      "text/plain": [
       "1    287\n",
       "0    213\n",
       "Name: admit_status, dtype: int64"
      ]
     },
     "metadata": {},
     "output_type": "display_data"
    },
    {
     "name": "stdout",
     "output_type": "stream",
     "text": [
      "\n"
     ]
    }
   ],
   "source": [
    "for column in data.columns:\n",
    "    print(f\"============= {column} =================\")\n",
    "    display(data[column].value_counts())\n",
    "    print()"
   ]
  },
  {
   "cell_type": "markdown",
   "metadata": {},
   "source": [
    "- The GRE has a score range of 260–340 for the total score\n",
    "- toefl score 0-120"
   ]
  },
  {
   "cell_type": "code",
   "execution_count": 41,
   "metadata": {
    "colab": {
     "base_uri": "https://localhost:8080/",
     "height": 335
    },
    "executionInfo": {
     "elapsed": 380,
     "status": "ok",
     "timestamp": 1727657363947,
     "user": {
      "displayName": "Pararawendy Indarjo",
      "userId": "09035664507663317723"
     },
     "user_tz": -420
    },
    "id": "ZIL8hOxKrC7R",
    "outputId": "4ee29aa6-11d4-42ae-bce0-b8b0b9f4610d",
    "scrolled": true
   },
   "outputs": [
    {
     "name": "stdout",
     "output_type": "stream",
     "text": [
      "Column 'gre_score' Has 9 missing values (1.80%)\n",
      "Column 'toefl_score' Has 8 missing values (1.60%)\n",
      "Column 'univ_ranking' Has 7 missing values (1.40%)\n",
      "Column 'motiv_letter_strength' Has 2 missing values (0.40%)\n",
      "Column 'recommendation_strength' Has 6 missing values (1.20%)\n",
      "Column 'gpa' Has 4 missing values (0.80%)\n",
      "Column 'research_exp' Has 0 missing values (0.00%)\n",
      "Column 'admit_status' Has 0 missing values (0.00%)\n"
     ]
    }
   ],
   "source": [
    "# percentage version\n",
    "total_rows = len(data)\n",
    "\n",
    "# Menghitung dan menampilkan persentase missing values di setiap kolom satu per satu\n",
    "for column in data.columns:\n",
    "    missing_count = data[column].isna().sum()\n",
    "    missing_percentage = (missing_count / total_rows) * 100\n",
    "    print(f\"Column '{column}' Has {missing_count} missing values ({missing_percentage:.2f}%)\") # .2f means 2 decimal"
   ]
  },
  {
   "cell_type": "markdown",
   "metadata": {},
   "source": [
    "The percentage of missing values below 20% so we handle numerically with median, categorical with mode. But the categorical data type does not have missing values, namely research_exp."
   ]
  },
  {
   "cell_type": "code",
   "execution_count": 42,
   "metadata": {},
   "outputs": [
    {
     "name": "stdout",
     "output_type": "stream",
     "text": [
      "<class 'pandas.core.frame.DataFrame'>\n",
      "Int64Index: 500 entries, 0 to 499\n",
      "Data columns (total 8 columns):\n",
      " #   Column                   Non-Null Count  Dtype  \n",
      "---  ------                   --------------  -----  \n",
      " 0   gre_score                491 non-null    float64\n",
      " 1   toefl_score              492 non-null    float64\n",
      " 2   univ_ranking             493 non-null    float64\n",
      " 3   motiv_letter_strength    498 non-null    float64\n",
      " 4   recommendation_strength  494 non-null    float64\n",
      " 5   gpa                      496 non-null    float64\n",
      " 6   research_exp             500 non-null    object \n",
      " 7   admit_status             500 non-null    int64  \n",
      "dtypes: float64(6), int64(1), object(1)\n",
      "memory usage: 35.2+ KB\n"
     ]
    }
   ],
   "source": [
    "data.info()"
   ]
  },
  {
   "cell_type": "code",
   "execution_count": 43,
   "metadata": {
    "colab": {
     "base_uri": "https://localhost:8080/",
     "height": 458
    },
    "executionInfo": {
     "elapsed": 2,
     "status": "ok",
     "timestamp": 1727657372006,
     "user": {
      "displayName": "Pararawendy Indarjo",
      "userId": "09035664507663317723"
     },
     "user_tz": -420
    },
    "id": "JgbtXGersP9M",
    "outputId": "0156c6dd-0f9b-45ee-ceae-7e059a1bea49"
   },
   "outputs": [],
   "source": [
    "# Handling missing value for EDA, without splitting\n",
    "for column in data.columns:\n",
    "    if data[column].dtype == 'object':\n",
    "        # Jika kolom bertipe object, isi dengan mode\n",
    "        data[column].fillna(data[column].mode()[0], inplace=True)\n",
    "    else: # karena tipe data hanya object dan numerik saja tidak ada yg lain, maka pakai else berikut\n",
    "        # Jika kolom bertipe numerik, isi dengan median\n",
    "        data[column].fillna(data[column].median(), inplace=True)"
   ]
  },
  {
   "cell_type": "code",
   "execution_count": 44,
   "metadata": {},
   "outputs": [
    {
     "data": {
      "text/plain": [
       "gre_score                  0\n",
       "toefl_score                0\n",
       "univ_ranking               0\n",
       "motiv_letter_strength      0\n",
       "recommendation_strength    0\n",
       "gpa                        0\n",
       "research_exp               0\n",
       "admit_status               0\n",
       "dtype: int64"
      ]
     },
     "execution_count": 44,
     "metadata": {},
     "output_type": "execute_result"
    }
   ],
   "source": [
    "data.isna().sum()"
   ]
  },
  {
   "cell_type": "code",
   "execution_count": 45,
   "metadata": {
    "colab": {
     "base_uri": "https://localhost:8080/"
    },
    "executionInfo": {
     "elapsed": 3,
     "status": "ok",
     "timestamp": 1727657375797,
     "user": {
      "displayName": "Pararawendy Indarjo",
      "userId": "09035664507663317723"
     },
     "user_tz": -420
    },
    "id": "CcFFE-peLQvy",
    "outputId": "ca2af11f-0e28-47ad-9da6-cde3b0c82b34"
   },
   "outputs": [
    {
     "name": "stdout",
     "output_type": "stream",
     "text": [
      "<class 'pandas.core.frame.DataFrame'>\n",
      "Int64Index: 500 entries, 0 to 499\n",
      "Data columns (total 8 columns):\n",
      " #   Column                   Non-Null Count  Dtype  \n",
      "---  ------                   --------------  -----  \n",
      " 0   gre_score                500 non-null    float64\n",
      " 1   toefl_score              500 non-null    float64\n",
      " 2   univ_ranking             500 non-null    float64\n",
      " 3   motiv_letter_strength    500 non-null    float64\n",
      " 4   recommendation_strength  500 non-null    float64\n",
      " 5   gpa                      500 non-null    float64\n",
      " 6   research_exp             500 non-null    object \n",
      " 7   admit_status             500 non-null    int64  \n",
      "dtypes: float64(6), int64(1), object(1)\n",
      "memory usage: 35.2+ KB\n"
     ]
    }
   ],
   "source": [
    "data.info()"
   ]
  },
  {
   "cell_type": "markdown",
   "metadata": {
    "id": "6LHi4ZgN8t3R"
   },
   "source": [
    "Success removing NULL values!"
   ]
  },
  {
   "cell_type": "markdown",
   "metadata": {
    "id": "rhFiRL0k3C55"
   },
   "source": [
    "## Thank you :)"
   ]
  },
  {
   "cell_type": "code",
   "execution_count": null,
   "metadata": {},
   "outputs": [],
   "source": []
  }
 ],
 "metadata": {
  "colab": {
   "authorship_tag": "ABX9TyMIXSQOIbtjEO7pX0Kc4r2t",
   "provenance": []
  },
  "kernelspec": {
   "display_name": "Python 3 (ipykernel)",
   "language": "python",
   "name": "python3"
  },
  "language_info": {
   "codemirror_mode": {
    "name": "ipython",
    "version": 3
   },
   "file_extension": ".py",
   "mimetype": "text/x-python",
   "name": "python",
   "nbconvert_exporter": "python",
   "pygments_lexer": "ipython3",
   "version": "3.11.4"
  }
 },
 "nbformat": 4,
 "nbformat_minor": 1
}
