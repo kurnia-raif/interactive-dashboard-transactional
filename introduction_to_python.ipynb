{
 "cells": [
  {
   "cell_type": "markdown",
   "id": "4575da9a",
   "metadata": {},
   "source": [
    "# Input - Output\n",
    "Inputs and outputs are close to the discussion of variables\n",
    "\n",
    "## Variables\n",
    "\n",
    "Variables are containers for storing data values.\n",
    "\n",
    "## Creating Variables\n",
    "\n",
    "Python has no command for declaring a variable.\n",
    "\n",
    "A variable is created the moment you first assign a value to it."
   ]
  },
  {
   "cell_type": "code",
   "execution_count": null,
   "id": "b3a48be5",
   "metadata": {},
   "outputs": [],
   "source": []
  },
  {
   "cell_type": "code",
   "execution_count": null,
   "id": "61b7f4f8",
   "metadata": {},
   "outputs": [],
   "source": []
  },
  {
   "cell_type": "markdown",
   "id": "3f9db696",
   "metadata": {},
   "source": [
    "# Heading 1\n",
    "Python adalah bahasa pemrograman yang menyenangkan untuk dipelajari. Bahasa pemrograman python untuk data scientist berguna memproses :\n",
    "1. Data visualisasi\n",
    "2. Data cleaning\n",
    "3. Modelling Machine Learning\n",
    "\n",
    "- Modelling Machine Learning\n",
    "- Data cleaning\n",
    "- Data visualisasi\n",
    "\n",
    "## Heading 2\n",
    "### Heading 3\n",
    "#### Heading 4\n",
    "##### Heading 5"
   ]
  },
  {
   "cell_type": "code",
   "execution_count": 1,
   "id": "312f438d",
   "metadata": {},
   "outputs": [
    {
     "name": "stdout",
     "output_type": "stream",
     "text": [
      "temen-temen DS belajar python\n"
     ]
    }
   ],
   "source": [
    "# print value\n",
    "print('temen-temen DS belajar python')"
   ]
  },
  {
   "cell_type": "code",
   "execution_count": 2,
   "id": "347ac592",
   "metadata": {},
   "outputs": [
    {
     "name": "stdout",
     "output_type": "stream",
     "text": [
      "5\n",
      "Bootcamp Data Scientist\n"
     ]
    }
   ],
   "source": [
    "x = 5\n",
    "y = \"Bootcamp Data Scientist\"\n",
    "\n",
    "\n",
    "# x and y are variable\n",
    "\n",
    "print(x) # print output value x\n",
    "print(y) # print output value y"
   ]
  },
  {
   "cell_type": "markdown",
   "id": "563fe28a",
   "metadata": {},
   "source": [
    "Variables do not need to be declared with any particular type, and can even change type after they have been set."
   ]
  },
  {
   "cell_type": "code",
   "execution_count": 3,
   "id": "a51f062c",
   "metadata": {},
   "outputs": [
    {
     "name": "stdout",
     "output_type": "stream",
     "text": [
      "Sally\n"
     ]
    }
   ],
   "source": [
    "x = 4       # x is of type int\n",
    "x = \"Sally\" # x is now of type str\n",
    "print(x)"
   ]
  },
  {
   "cell_type": "code",
   "execution_count": null,
   "id": "d1750695",
   "metadata": {},
   "outputs": [],
   "source": []
  },
  {
   "cell_type": "markdown",
   "id": "a11be9d8",
   "metadata": {},
   "source": [
    "## Casting\n",
    "\n",
    "If you want to specify the data type of a variable, this can be done with casting."
   ]
  },
  {
   "cell_type": "code",
   "execution_count": 4,
   "id": "6a2363c1",
   "metadata": {},
   "outputs": [
    {
     "name": "stdout",
     "output_type": "stream",
     "text": [
      "3\n",
      "3\n",
      "3.0\n"
     ]
    }
   ],
   "source": [
    "x = str(3)    # x will be '3'\n",
    "y = int(3)    # y will be 3\n",
    "z = float(3)  # z will be 3.0 \n",
    "\n",
    "print(x)\n",
    "print(y)\n",
    "print(z)"
   ]
  },
  {
   "cell_type": "code",
   "execution_count": 5,
   "id": "e59f9215",
   "metadata": {},
   "outputs": [
    {
     "data": {
      "text/plain": [
       "'3'"
      ]
     },
     "execution_count": 5,
     "metadata": {},
     "output_type": "execute_result"
    }
   ],
   "source": [
    "x"
   ]
  },
  {
   "cell_type": "markdown",
   "id": "4f38d839",
   "metadata": {},
   "source": [
    "## Get the Type\n",
    "\n",
    "You can get the data type of a variable with the type() function."
   ]
  },
  {
   "cell_type": "code",
   "execution_count": 27,
   "id": "cab5fcf6",
   "metadata": {},
   "outputs": [
    {
     "name": "stdout",
     "output_type": "stream",
     "text": [
      "<class 'int'>\n",
      "<class 'str'>\n",
      "<class 'float'>\n"
     ]
    }
   ],
   "source": [
    "# assign x and y with check value type\n",
    "x = 5\n",
    "y = \"John\"\n",
    "z = 3.5\n",
    "print(type(x))\n",
    "print(type(y))\n",
    "print(type(z))"
   ]
  },
  {
   "cell_type": "code",
   "execution_count": 35,
   "id": "9020cef0",
   "metadata": {},
   "outputs": [
    {
     "data": {
      "text/plain": [
       "int"
      ]
     },
     "execution_count": 35,
     "metadata": {},
     "output_type": "execute_result"
    }
   ],
   "source": [
    "type(x)"
   ]
  },
  {
   "cell_type": "markdown",
   "id": "79712e08",
   "metadata": {},
   "source": [
    "Complete explanation about Data Type : https://www.w3schools.com/python/python_datatypes.asp"
   ]
  },
  {
   "cell_type": "markdown",
   "id": "bf5a0f6b",
   "metadata": {},
   "source": [
    "## Single or Double Quotes?\n",
    "\n",
    "String variables can be declared either by using single or double quotes:"
   ]
  },
  {
   "cell_type": "code",
   "execution_count": 7,
   "id": "13eac326",
   "metadata": {},
   "outputs": [
    {
     "name": "stdout",
     "output_type": "stream",
     "text": [
      "John\n",
      "John\n"
     ]
    }
   ],
   "source": [
    "x = \"John\"\n",
    "print(x)\n",
    "\n",
    "#double quotes are the same as single quotes:\n",
    "\n",
    "x = 'John'\n",
    "print(x)"
   ]
  },
  {
   "cell_type": "code",
   "execution_count": 8,
   "id": "4f4abde1",
   "metadata": {},
   "outputs": [
    {
     "data": {
      "text/plain": [
       "\"Ra'if\""
      ]
     },
     "execution_count": 8,
     "metadata": {},
     "output_type": "execute_result"
    }
   ],
   "source": [
    "a = \"Ra'if\"\n",
    "a"
   ]
  },
  {
   "cell_type": "code",
   "execution_count": 9,
   "id": "e02d45d4",
   "metadata": {},
   "outputs": [
    {
     "data": {
      "text/plain": [
       "'\\nhari ini pertemuan belajar python\\n'"
      ]
     },
     "execution_count": 9,
     "metadata": {},
     "output_type": "execute_result"
    }
   ],
   "source": [
    "kalimat = '''\n",
    "hari ini pertemuan belajar python\n",
    "'''\n",
    "kalimat"
   ]
  },
  {
   "cell_type": "code",
   "execution_count": 10,
   "id": "4d964701",
   "metadata": {},
   "outputs": [
    {
     "data": {
      "text/plain": [
       "'\\nhari ini pertemuan belajar python\\n'"
      ]
     },
     "execution_count": 10,
     "metadata": {},
     "output_type": "execute_result"
    }
   ],
   "source": [
    "kalimat = \"\"\"\n",
    "hari ini pertemuan belajar python\n",
    "\"\"\"\n",
    "kalimat"
   ]
  },
  {
   "cell_type": "markdown",
   "id": "e2f98bc9",
   "metadata": {},
   "source": [
    "## Case-Sensitive\n",
    "\n",
    "Variable names are case-sensitive."
   ]
  },
  {
   "cell_type": "code",
   "execution_count": 11,
   "id": "4763f8c0",
   "metadata": {},
   "outputs": [
    {
     "name": "stdout",
     "output_type": "stream",
     "text": [
      "4\n",
      "Sally\n"
     ]
    }
   ],
   "source": [
    "# case sensitive\n",
    "a = 4\n",
    "A = \"Sally\"\n",
    "\n",
    "print(a)\n",
    "print(A)"
   ]
  },
  {
   "cell_type": "code",
   "execution_count": 12,
   "id": "bdb26b3f",
   "metadata": {},
   "outputs": [
    {
     "name": "stdout",
     "output_type": "stream",
     "text": [
      "False\n"
     ]
    }
   ],
   "source": [
    "# case sensitive\n",
    "b = 'Sally'\n",
    "B = 'sally'\n",
    "print(b==B)"
   ]
  },
  {
   "cell_type": "markdown",
   "id": "bfbd7f52",
   "metadata": {},
   "source": [
    "## Legal Variabel name"
   ]
  },
  {
   "cell_type": "code",
   "execution_count": 13,
   "id": "44a4ff9f",
   "metadata": {},
   "outputs": [
    {
     "name": "stdout",
     "output_type": "stream",
     "text": [
      "dibimbing\n",
      "dibimbing\n",
      "dibimbing\n",
      "dibimbing\n",
      "dibimbing\n",
      "dibimbing\n",
      "dibimbing\n"
     ]
    }
   ],
   "source": [
    "myvar = \"dibimbing\" # huruf kecil semua\n",
    "my_var = \"dibimbing\" # setiap kata dipisahkan underscore character\n",
    "_my_var = \"dibimbing\" # tipe snake case, dipisahkan oleh underscore\n",
    "myVar = \"dibimbing\" # Camel Case : huruf pertama kecil, kata berikutnya memiliki huruf awalannya besar\n",
    "MYVAR = \"dibimbing\" # Huruf besar semua\n",
    "myvar2 = \"dibimbing\" # huruf kecil + angka\n",
    "MYVAR2 = \"dibimbing\" # Huruf besar semua\n",
    "\n",
    "print(myvar)\n",
    "print(my_var)\n",
    "print(_my_var)\n",
    "print(myVar)\n",
    "print(MYVAR)\n",
    "print(myvar2)\n",
    "print(MYVAR2)"
   ]
  },
  {
   "cell_type": "markdown",
   "id": "41569573",
   "metadata": {},
   "source": [
    "## Illegal Variabel Name"
   ]
  },
  {
   "cell_type": "code",
   "execution_count": 14,
   "id": "bd190c60",
   "metadata": {},
   "outputs": [
    {
     "ename": "SyntaxError",
     "evalue": "invalid decimal literal (1958849472.py, line 1)",
     "output_type": "error",
     "traceback": [
      "\u001b[1;36m  Cell \u001b[1;32mIn[14], line 1\u001b[1;36m\u001b[0m\n\u001b[1;33m    2myvar = \"John\"\u001b[0m\n\u001b[1;37m    ^\u001b[0m\n\u001b[1;31mSyntaxError\u001b[0m\u001b[1;31m:\u001b[0m invalid decimal literal\n"
     ]
    }
   ],
   "source": [
    "2myvar = \"John\"\n",
    "\n",
    "#This example will produce an error in the result"
   ]
  },
  {
   "cell_type": "code",
   "execution_count": 15,
   "id": "4c030272",
   "metadata": {},
   "outputs": [
    {
     "ename": "SyntaxError",
     "evalue": "cannot assign to expression here. Maybe you meant '==' instead of '='? (3947910070.py, line 1)",
     "output_type": "error",
     "traceback": [
      "\u001b[1;36m  Cell \u001b[1;32mIn[15], line 1\u001b[1;36m\u001b[0m\n\u001b[1;33m    my+var = \"John\"\u001b[0m\n\u001b[1;37m    ^\u001b[0m\n\u001b[1;31mSyntaxError\u001b[0m\u001b[1;31m:\u001b[0m cannot assign to expression here. Maybe you meant '==' instead of '='?\n"
     ]
    }
   ],
   "source": [
    "my+var = \"John\"\n",
    "\n",
    "#This example will produce an error in the result"
   ]
  },
  {
   "cell_type": "code",
   "execution_count": 16,
   "id": "0de4defe",
   "metadata": {},
   "outputs": [
    {
     "ename": "SyntaxError",
     "evalue": "invalid syntax (2648660556.py, line 1)",
     "output_type": "error",
     "traceback": [
      "\u001b[1;36m  Cell \u001b[1;32mIn[16], line 1\u001b[1;36m\u001b[0m\n\u001b[1;33m    my var = \"John\"\u001b[0m\n\u001b[1;37m       ^\u001b[0m\n\u001b[1;31mSyntaxError\u001b[0m\u001b[1;31m:\u001b[0m invalid syntax\n"
     ]
    }
   ],
   "source": [
    "my var = \"John\"\n",
    "\n",
    "#This example will produce an error in the result"
   ]
  },
  {
   "cell_type": "markdown",
   "id": "164e6a80",
   "metadata": {},
   "source": [
    "## Ouput Variables\n",
    "The Python print() function is often used to output variables."
   ]
  },
  {
   "cell_type": "markdown",
   "id": "a0898a99",
   "metadata": {},
   "source": [
    "Notice the space character after \"Python \" and \"is \", without them the result would be \"Pythonisawesome\"."
   ]
  },
  {
   "cell_type": "code",
   "execution_count": 17,
   "id": "8e966d7d",
   "metadata": {},
   "outputs": [
    {
     "name": "stdout",
     "output_type": "stream",
     "text": [
      "15\n"
     ]
    }
   ],
   "source": [
    "# sum\n",
    "x = 5\n",
    "y = 10\n",
    "print(x + y)"
   ]
  },
  {
   "cell_type": "code",
   "execution_count": 18,
   "id": "aad93a2b",
   "metadata": {},
   "outputs": [
    {
     "ename": "TypeError",
     "evalue": "unsupported operand type(s) for +: 'int' and 'str'",
     "output_type": "error",
     "traceback": [
      "\u001b[1;31m---------------------------------------------------------------------------\u001b[0m",
      "\u001b[1;31mTypeError\u001b[0m                                 Traceback (most recent call last)",
      "Cell \u001b[1;32mIn[18], line 3\u001b[0m\n\u001b[0;32m      1\u001b[0m x \u001b[38;5;241m=\u001b[39m \u001b[38;5;241m5\u001b[39m\n\u001b[0;32m      2\u001b[0m y \u001b[38;5;241m=\u001b[39m \u001b[38;5;124m\"\u001b[39m\u001b[38;5;124mJohn\u001b[39m\u001b[38;5;124m\"\u001b[39m\n\u001b[1;32m----> 3\u001b[0m \u001b[38;5;28mprint\u001b[39m(x \u001b[38;5;241m+\u001b[39m y)\n",
      "\u001b[1;31mTypeError\u001b[0m: unsupported operand type(s) for +: 'int' and 'str'"
     ]
    }
   ],
   "source": [
    "# cannot sum numeric + string\n",
    "x = 5\n",
    "y = \"John\"\n",
    "print(x + y)"
   ]
  },
  {
   "cell_type": "markdown",
   "id": "6710ad46",
   "metadata": {},
   "source": [
    "The best way to output multiple variables in the print() function is to separate them with commas, which even support different data types:"
   ]
  },
  {
   "cell_type": "markdown",
   "id": "f4617870",
   "metadata": {},
   "source": [
    "## Python Conditions and If statements\n",
    "\n",
    "### Python supports the usual logical conditions from mathematics:\n",
    "\n",
    " -   Equals: a == b\n",
    " -   Not Equals: a != b\n",
    " -   Less than: a < b\n",
    " -   Less than or equal to: a <= b\n",
    " -   Greater than: a > b\n",
    " -   Greater than or equal to: a >= b\n",
    "\n",
    "These conditions can be used in several ways, most commonly in \"if statements\" and loops.\n",
    "\n",
    "An \"if statement\" is written by using the if keyword.\n",
    "\n",
    "## If"
   ]
  },
  {
   "cell_type": "code",
   "execution_count": 19,
   "id": "046431fd",
   "metadata": {},
   "outputs": [],
   "source": [
    "a = 20\n",
    "b = 10\n",
    "if b > a:\n",
    "    print(\"b is greater than a\")\n",
    "\n",
    "# if condition"
   ]
  },
  {
   "cell_type": "code",
   "execution_count": 20,
   "id": "9ae64683",
   "metadata": {},
   "outputs": [
    {
     "ename": "IndentationError",
     "evalue": "expected an indented block after 'if' statement on line 3 (1531147807.py, line 4)",
     "output_type": "error",
     "traceback": [
      "\u001b[1;36m  Cell \u001b[1;32mIn[20], line 4\u001b[1;36m\u001b[0m\n\u001b[1;33m    print(\"b is greater than a\") # you will get an error ( tidak ada indentasi )\u001b[0m\n\u001b[1;37m    ^\u001b[0m\n\u001b[1;31mIndentationError\u001b[0m\u001b[1;31m:\u001b[0m expected an indented block after 'if' statement on line 3\n"
     ]
    }
   ],
   "source": [
    "a = 33\n",
    "b = 200\n",
    "if b > a:\n",
    "print(\"b is greater than a\") # you will get an error ( tidak ada indentasi )"
   ]
  },
  {
   "cell_type": "markdown",
   "id": "1f575903",
   "metadata": {},
   "source": [
    "## Elif\n",
    "\n",
    "The elif keyword is Python's way of saying \"if the previous conditions were not true, then try this condition\"."
   ]
  },
  {
   "cell_type": "code",
   "execution_count": 21,
   "id": "e8a13596",
   "metadata": {},
   "outputs": [
    {
     "name": "stdout",
     "output_type": "stream",
     "text": [
      "b is greater than a\n"
     ]
    }
   ],
   "source": [
    "# if and elif\n",
    "a = 33\n",
    "b = 40\n",
    "if b > a:\n",
    "    print(\"b is greater than a\")\n",
    "elif a == b:\n",
    "    print(\"a and b are equal\")"
   ]
  },
  {
   "cell_type": "markdown",
   "id": "1782ecaa",
   "metadata": {},
   "source": [
    "In this example a is equal to b, so the first condition is not true, but the elif condition is true, so we print to screen that \"a and b are equal\"."
   ]
  },
  {
   "cell_type": "markdown",
   "id": "45afb84c",
   "metadata": {},
   "source": [
    "## Else\n",
    "\n",
    "The else keyword catches anything which isn't caught by the preceding conditions."
   ]
  },
  {
   "cell_type": "code",
   "execution_count": 22,
   "id": "718df852",
   "metadata": {},
   "outputs": [
    {
     "name": "stdout",
     "output_type": "stream",
     "text": [
      "unknown value\n"
     ]
    }
   ],
   "source": [
    "# if and elif and else\n",
    "\n",
    "a = 200\n",
    "b = 33\n",
    "if b > a:\n",
    "    print(\"b is greater than a\")\n",
    "elif a == b:\n",
    "    print(\"a and b are equal\")\n",
    "elif a<b:\n",
    "    print(\"a less than b\")\n",
    "else:\n",
    "    print('unknown value')"
   ]
  },
  {
   "cell_type": "markdown",
   "id": "e8212e74",
   "metadata": {},
   "source": [
    "In this example a is greater than b, so the first condition is not true, also the elif condition is not true, so we go to the else condition and print to screen that \"a is greater than b\".\n",
    "You can also have an else without the elif:"
   ]
  },
  {
   "cell_type": "code",
   "execution_count": 23,
   "id": "27380469",
   "metadata": {},
   "outputs": [
    {
     "name": "stdout",
     "output_type": "stream",
     "text": [
      "b is not greater than a\n"
     ]
    }
   ],
   "source": [
    "# if and else\n",
    "\n",
    "a = 200\n",
    "b = 33\n",
    "if b > a:\n",
    "    print(\"b is greater than a\")\n",
    "else:\n",
    "    print(\"b is not greater than a\")"
   ]
  },
  {
   "cell_type": "markdown",
   "id": "3f4cb269",
   "metadata": {},
   "source": [
    "## And\n",
    "\n",
    "The and keyword is a logical operator, and is used to combine conditional statements:"
   ]
  },
  {
   "cell_type": "code",
   "execution_count": 24,
   "id": "11524c82",
   "metadata": {},
   "outputs": [
    {
     "name": "stdout",
     "output_type": "stream",
     "text": [
      "there are no condition\n"
     ]
    }
   ],
   "source": [
    "# and condition\n",
    "a = 5\n",
    "b = 3\n",
    "c = 8\n",
    "if a > b and c > a and a == b:\n",
    "    print(\"Both conditions are True\")\n",
    "else:\n",
    "    print('there are no condition')"
   ]
  },
  {
   "cell_type": "markdown",
   "id": "ba26e6ce",
   "metadata": {},
   "source": [
    "## Or\n",
    "\n",
    "The or keyword is a logical operator, and is used to combine conditional statements:"
   ]
  },
  {
   "cell_type": "code",
   "execution_count": 25,
   "id": "f58ad65b",
   "metadata": {},
   "outputs": [
    {
     "name": "stdout",
     "output_type": "stream",
     "text": [
      "At least one of the conditions is True\n"
     ]
    }
   ],
   "source": [
    "# if and or condition\n",
    "a = 200\n",
    "b = 33\n",
    "c = 500\n",
    "if a > b or a > c and b == c:\n",
    "    print(\"At least one of the conditions is True\")"
   ]
  },
  {
   "cell_type": "markdown",
   "id": "8e049938",
   "metadata": {},
   "source": [
    "## Not\n",
    "\n",
    "The not keyword is a logical operator, and is used to reverse the result of the conditional statement:"
   ]
  },
  {
   "cell_type": "code",
   "execution_count": 26,
   "id": "215d088b",
   "metadata": {},
   "outputs": [
    {
     "name": "stdout",
     "output_type": "stream",
     "text": [
      "a is NOT greater than b\n"
     ]
    }
   ],
   "source": [
    "# not condition\n",
    "a = 33\n",
    "b = 200\n",
    "if a != b:\n",
    "    print(\"a is NOT greater than b\")"
   ]
  },
  {
   "cell_type": "markdown",
   "id": "6524b515",
   "metadata": {},
   "source": [
    "# Thank you :)"
   ]
  }
 ],
 "metadata": {
  "kernelspec": {
   "display_name": "Python 3 (ipykernel)",
   "language": "python",
   "name": "python3"
  },
  "language_info": {
   "codemirror_mode": {
    "name": "ipython",
    "version": 3
   },
   "file_extension": ".py",
   "mimetype": "text/x-python",
   "name": "python",
   "nbconvert_exporter": "python",
   "pygments_lexer": "ipython3",
   "version": "3.11.4"
  }
 },
 "nbformat": 4,
 "nbformat_minor": 5
}
